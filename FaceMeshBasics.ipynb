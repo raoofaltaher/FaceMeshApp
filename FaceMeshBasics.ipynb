{
 "cells": [
  {
   "cell_type": "code",
   "execution_count": 7,
   "id": "738fdb4c-122a-4bdf-9a35-cdeb710385e2",
   "metadata": {},
   "outputs": [
    {
     "name": "stdout",
     "output_type": "stream",
     "text": [
      "Video playback completed or file not found.\n"
     ]
    }
   ],
   "source": [
    "import cv2\n",
    "import time\n",
    "import mediapipe as mp\n",
    "\n",
    "\n",
    "cap = cv2.VideoCapture(\"videos/5.mp4\")\n",
    "pTime = 0\n",
    "\n",
    "mpDraw = mp.solutions.drawing_utils\n",
    "mpFaceMesh = mp.solutions.face_mesh\n",
    "faceMesh = mpFaceMesh.FaceMesh(max_num_faces=10)\n",
    "drawSpec = mpDraw.DrawingSpec(color=(0, 255,0), thickness=1, circle_radius=2)\n",
    "\n",
    "\n",
    "while True:\n",
    "    success, img = cap.read()\n",
    "    # Check if the frame was successfully captured\n",
    "    if not success:\n",
    "        print(\"Video playback completed or file not found.\")\n",
    "        break\n",
    "        \n",
    "    # Resize the frame\n",
    "    scale_percentage = 50\n",
    "    width = int(img.shape[1] * scale_percentage / 200 )\n",
    "    height = int(img.shape[0] * scale_percentage / 200 )\n",
    "    img = cv2.resize(img, (width, height))\n",
    "    \n",
    "    imgRGB = cv2.cvtColor(img, cv2.COLOR_BGR2RGB)\n",
    "    results = faceMesh.process(imgRGB)\n",
    "    if results.multi_face_landmarks:\n",
    "        for faceLms in results.multi_face_landmarks:\n",
    "            mpDraw.draw_landmarks(img, faceLms, mpFaceMesh.FACEMESH_TESSELATION, drawSpec, drawSpec)\n",
    "            \n",
    "            for id, lm in enumerate(faceLms.landmark):\n",
    "                # print(lm)\n",
    "                ih, iw, ic = img.shape\n",
    "                x,y = int(lm.x * iw) , int(lm.y * ih)\n",
    "                print(id, x, y)\n",
    "                                       \n",
    "    \n",
    "    cTime = time.time()\n",
    "    fps = 1/(cTime - pTime)\n",
    "    pTime = cTime\n",
    "    cv2.putText(img, f'FPS: {int(fps)}', (10, 35), cv2.FONT_HERSHEY_PLAIN, 1.5, (255,0,255), 2)\n",
    "    cv2.putText(img, f'FaceMesh:', (10, 60), cv2.FONT_HERSHEY_PLAIN, 1.5, (255,0,255), 2)\n",
    "    cv2.imshow(\"Image\", img)\n",
    "\n",
    "    # Close the window and exit loop when 'q' key is pressed\n",
    "    if cv2.waitKey(1) & 0xFF == ord('q'):\n",
    "        break\n",
    "cap.release()\n",
    "cv2.destroyAllWindows()"
   ]
  },
  {
   "cell_type": "code",
   "execution_count": null,
   "id": "e7ef81ef-60b8-4726-989d-3b492bec6031",
   "metadata": {},
   "outputs": [],
   "source": []
  }
 ],
 "metadata": {
  "kernelspec": {
   "display_name": "Python 3 (ipykernel)",
   "language": "python",
   "name": "python3"
  },
  "language_info": {
   "codemirror_mode": {
    "name": "ipython",
    "version": 3
   },
   "file_extension": ".py",
   "mimetype": "text/x-python",
   "name": "python",
   "nbconvert_exporter": "python",
   "pygments_lexer": "ipython3",
   "version": "3.9.13"
  }
 },
 "nbformat": 4,
 "nbformat_minor": 5
}
