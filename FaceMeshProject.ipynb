{
 "cells": [
  {
   "cell_type": "code",
   "execution_count": 4,
   "id": "a66c8bbe-d923-4eef-b184-c8caf27616e3",
   "metadata": {
    "tags": []
   },
   "outputs": [],
   "source": [
    "import cv2\n",
    "import time\n",
    "import FaceMeshModule as fm\n",
    "\n",
    "cap = cv2.VideoCapture(0)\n",
    "pTime = 0\n",
    "detector = fm.FaceMeshDetector()\n",
    "\n",
    "while True:\n",
    "    success, img = cap.read()\n",
    "\n",
    "    # scale_percentage = 50\n",
    "    # width = int(img.shape[1] * scale_percentage / 200)\n",
    "    # height = int(img.shape[0] * scale_percentage / 200)\n",
    "    # img = cv2.resize(img, (width, height))\n",
    "    if not success:\n",
    "        print(\"Video playback completed or file not found.\")\n",
    "        break\n",
    "\n",
    "    img, faces = detector.findFaceMesh(img)\n",
    "    # if len(faces) != 0:\n",
    "    #     print(faces[0])\n",
    "\n",
    "    cTime = time.time()\n",
    "    fps = 1 / (cTime - pTime)\n",
    "    pTime = cTime\n",
    "    cv2.putText(img, f'FPS: {int(fps)}', (10, 35), cv2.FONT_HERSHEY_PLAIN, 1.5, (255, 0, 255), 2)\n",
    "    cv2.putText(img, f'FaceMesh:', (10, 55), cv2.FONT_HERSHEY_PLAIN, 1.5, (255, 0, 255), 2)\n",
    "    cv2.imshow(\"Image\", img)\n",
    "\n",
    "    if cv2.waitKey(1) & 0xFF == ord('q'):\n",
    "        break\n",
    "\n",
    "cap.release()\n",
    "cv2.destroyAllWindows()"
   ]
  },
  {
   "cell_type": "code",
   "execution_count": null,
   "id": "42cb9a4e-a886-4aef-bf29-ba5eb0ca113b",
   "metadata": {},
   "outputs": [],
   "source": []
  }
 ],
 "metadata": {
  "kernelspec": {
   "display_name": "Python 3 (ipykernel)",
   "language": "python",
   "name": "python3"
  },
  "language_info": {
   "codemirror_mode": {
    "name": "ipython",
    "version": 3
   },
   "file_extension": ".py",
   "mimetype": "text/x-python",
   "name": "python",
   "nbconvert_exporter": "python",
   "pygments_lexer": "ipython3",
   "version": "3.11.5"
  }
 },
 "nbformat": 4,
 "nbformat_minor": 5
}
